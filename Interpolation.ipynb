{
 "cells": [
  {
   "cell_type": "markdown",
   "metadata": {},
   "source": [
    "# Interpolating "
   ]
  },
  {
   "cell_type": "code",
   "execution_count": 59,
   "metadata": {},
   "outputs": [],
   "source": [
    "#Libraries\n",
    "import arcpy\n",
    "from arcpy import env\n",
    "import pandas as pd\n",
    "import os \n",
    "from arcpy.ia import *\n",
    "env.overwriteOutput = True"
   ]
  },
  {
   "cell_type": "code",
   "execution_count": 60,
   "metadata": {},
   "outputs": [],
   "source": [
    "#Workspace Directory\n",
    "workspace = r\"C:\\SL_ARCGIS_PRO\\01_Intensidade_Pluviometrica\""
   ]
  },
  {
   "cell_type": "code",
   "execution_count": 61,
   "metadata": {},
   "outputs": [
    {
     "data": {
      "text/html": [
       "<div>\n",
       "<style scoped>\n",
       "    .dataframe tbody tr th:only-of-type {\n",
       "        vertical-align: middle;\n",
       "    }\n",
       "\n",
       "    .dataframe tbody tr th {\n",
       "        vertical-align: top;\n",
       "    }\n",
       "\n",
       "    .dataframe thead th {\n",
       "        text-align: right;\n",
       "    }\n",
       "</style>\n",
       "<table border=\"1\" class=\"dataframe\">\n",
       "  <thead>\n",
       "    <tr style=\"text-align: right;\">\n",
       "      <th></th>\n",
       "      <th>ID</th>\n",
       "      <th>Localidade</th>\n",
       "      <th>Estação</th>\n",
       "      <th>Latitude</th>\n",
       "      <th>Longitude</th>\n",
       "      <th>Média Anual IP</th>\n",
       "      <th>Vulnerabilidade</th>\n",
       "    </tr>\n",
       "  </thead>\n",
       "  <tbody>\n",
       "    <tr>\n",
       "      <th>0</th>\n",
       "      <td>1</td>\n",
       "      <td>Acará</td>\n",
       "      <td>148009</td>\n",
       "      <td>-1.970833</td>\n",
       "      <td>-48.205556</td>\n",
       "      <td>445.809311</td>\n",
       "      <td>2</td>\n",
       "    </tr>\n",
       "    <tr>\n",
       "      <th>1</th>\n",
       "      <td>2</td>\n",
       "      <td>PA 256 Rio Acará Mirim</td>\n",
       "      <td>248006</td>\n",
       "      <td>-2.783611</td>\n",
       "      <td>-48.359722</td>\n",
       "      <td>402.128699</td>\n",
       "      <td>2</td>\n",
       "    </tr>\n",
       "    <tr>\n",
       "      <th>2</th>\n",
       "      <td>3</td>\n",
       "      <td>Tomé-Açú</td>\n",
       "      <td>248003</td>\n",
       "      <td>-2.428333</td>\n",
       "      <td>-48.137222</td>\n",
       "      <td>443.396446</td>\n",
       "      <td>2</td>\n",
       "    </tr>\n",
       "    <tr>\n",
       "      <th>3</th>\n",
       "      <td>4</td>\n",
       "      <td>Acampamento Mendes Junior</td>\n",
       "      <td>247008</td>\n",
       "      <td>-2.343333</td>\n",
       "      <td>-47.846944</td>\n",
       "      <td>406.492846</td>\n",
       "      <td>2</td>\n",
       "    </tr>\n",
       "    <tr>\n",
       "      <th>4</th>\n",
       "      <td>5</td>\n",
       "      <td>Badajós</td>\n",
       "      <td>247000</td>\n",
       "      <td>-2.512778</td>\n",
       "      <td>-47.768056</td>\n",
       "      <td>381.850865</td>\n",
       "      <td>2</td>\n",
       "    </tr>\n",
       "  </tbody>\n",
       "</table>\n",
       "</div>"
      ],
      "text/plain": [
       "   ID                 Localidade  ...  Média Anual IP  Vulnerabilidade\n",
       "0   1                      Acará  ...      445.809311                2\n",
       "1   2     PA 256 Rio Acará Mirim  ...      402.128699                2\n",
       "2   3                   Tomé-Açú  ...      443.396446                2\n",
       "3   4  Acampamento Mendes Junior  ...      406.492846                2\n",
       "4   5                    Badajós  ...      381.850865                2\n",
       "\n",
       "[5 rows x 7 columns]"
      ]
     },
     "execution_count": 61,
     "metadata": {},
     "output_type": "execute_result"
    }
   ],
   "source": [
    "#data analysis\n",
    "df = pd.read_excel(r'C:\\SL_ARCGIS_PRO\\01_Intensidade_Pluviometrica\\estacoes.xlsx')\n",
    "df.head()"
   ]
  },
  {
   "cell_type": "markdown",
   "metadata": {},
   "source": [
    "converting xy table to point"
   ]
  },
  {
   "cell_type": "code",
   "execution_count": 62,
   "metadata": {},
   "outputs": [],
   "source": [
    "def to_feature (data, out_put):\n",
    "    data = r\"C:\\SL_ARCGIS_PRO\\01_Intensidade_Pluviometrica\\estacoes.xlsx\\Estacoes$\"\n",
    "    out_put = r'C:\\SL_ARCGIS_PRO\\01_Intensidade_Pluviometrica\\estacoes.shp'\n",
    "    arcpy.management.XYTableToPoint(data, out_put, \"Longitude\", \"Latitude\", \"Média_Anual_IP\", 'GEOGCS[\"GCS_WGS_1984\",DATUM[\"D_WGS_1984\",SPHEROID[\"WGS_1984\",6378137.0,298.257223563]],PRIMEM[\"Greenwich\",0.0],UNIT[\"Degree\",0.0174532925199433]],VERTCS[\"WGS_1984\",DATUM[\"D_WGS_1984\",SPHEROID[\"WGS_1984\",6378137.0,298.257223563]],PARAMETER[\"Vertical_Shift\",0.0],PARAMETER[\"Direction\",1.0],UNIT[\"Meter\",1.0]];-400 -400 1000000000;-100000 10000;-100000 10000;8.98315284119521E-09;0.001;0.001;IsHighPrecision')"
   ]
  },
  {
   "cell_type": "code",
   "execution_count": 63,
   "metadata": {},
   "outputs": [],
   "source": [
    "to_feature ('data','out_put')"
   ]
  },
  {
   "cell_type": "markdown",
   "metadata": {},
   "source": [
    "# Visualizing data"
   ]
  },
  {
   "cell_type": "code",
   "execution_count": 64,
   "metadata": {},
   "outputs": [],
   "source": [
    "from arcgis.features import GeoSeriesAccessor\n",
    "from arcgis.features import GeoAccessor"
   ]
  },
  {
   "cell_type": "code",
   "execution_count": 65,
   "metadata": {},
   "outputs": [],
   "source": [
    "estacoes = r'C:\\SL_ARCGIS_PRO\\01_Intensidade_Pluviometrica\\estacoes.shp'"
   ]
  },
  {
   "cell_type": "code",
   "execution_count": 66,
   "metadata": {},
   "outputs": [],
   "source": [
    "point = pd.DataFrame.spatial.from_featureclass(estacoes)"
   ]
  },
  {
   "cell_type": "code",
   "execution_count": 67,
   "metadata": {},
   "outputs": [
    {
     "data": {
      "application/vnd.jupyter.widget-view+json": {
       "model_id": "ba7848da7d2c40debad162a6beb39d86",
       "version_major": 2,
       "version_minor": 0
      },
      "text/plain": [
       "MapView(layout=Layout(height='400px', width='100%'))"
      ]
     },
     "metadata": {},
     "output_type": "display_data"
    },
    {
     "data": {
      "text/html": [
       "<div class=\"map-static-img-preview-4c0235dc-8683-4169-983e-5ff90a59c6f9\"><img src=\"\"></img></div>"
      ],
      "text/plain": [
       "<display.HTML object>"
      ]
     },
     "metadata": {},
     "output_type": "display_data"
    },
    {
     "data": {
      "text/html": [
       "<div class=\"map-html-embed-preview-4c0235dc-8683-4169-983e-5ff90a59c6f9\"></div>"
      ],
      "text/plain": [
       "<display.HTML object>"
      ]
     },
     "metadata": {},
     "output_type": "display_data"
    }
   ],
   "source": [
    "map_view = point.spatial.plot(alpha=0.75) \n",
    "map_view"
   ]
  },
  {
   "cell_type": "markdown",
   "metadata": {},
   "source": [
    "Interpolating Geodata"
   ]
  },
  {
   "cell_type": "code",
   "execution_count": 70,
   "metadata": {},
   "outputs": [],
   "source": [
    "def interpolation (estacoes, result):\n",
    "    estacoes = r'C:\\SL_ARCGIS_PRO\\01_Intensidade_Pluviometrica\\estacoes.shp'\n",
    "    result = r'C:\\SL_ARCGIS_PRO\\01_Intensidade_Pluviometrica\\precipitation.tif'\n",
    "    arcpy.ddd.Kriging(estacoes, \"Média_Anu\", result, \"Spherical 0,005070 # # #\", 0.00507000000000016, \"VARIABLE 12\", None)"
   ]
  },
  {
   "cell_type": "code",
   "execution_count": 71,
   "metadata": {},
   "outputs": [],
   "source": [
    "interpolation ('estacoes', 'result')"
   ]
  },
  {
   "cell_type": "code",
   "execution_count": 72,
   "metadata": {},
   "outputs": [],
   "source": [
    "#visualizing raster\n",
    "precipitation = r'C:\\SL_ARCGIS_PRO\\01_Intensidade_Pluviometrica\\precipitation.tif'"
   ]
  },
  {
   "cell_type": "code",
   "execution_count": 73,
   "metadata": {},
   "outputs": [
    {
     "data": {
      "image/png": "[encoded data removed]",
      "text/plain": [
       "C:\\SL_ARCGIS_PRO\\01_Intensidade_Pluviometrica\\precipitation.tif"
      ]
     },
     "execution_count": 73,
     "metadata": {},
     "output_type": "execute_result"
    }
   ],
   "source": [
    "raster = arcpy.Raster(precipitation)\n",
    "raster"
   ]
  },
  {
   "cell_type": "markdown",
   "metadata": {},
   "source": [
    "Extract my mask"
   ]
  },
  {
   "cell_type": "code",
   "execution_count": 74,
   "metadata": {},
   "outputs": [
    {
     "data": {
      "image/png": "[encoded data removed]",
      "text/plain": [
       "C:\\SL_ARCGIS_PRO\\01_Intensidade_Pluviometrica\\precipitation_aoi.tif"
      ]
     },
     "execution_count": 74,
     "metadata": {},
     "output_type": "execute_result"
    }
   ],
   "source": [
    "aoi = r'C:\\SL_ARCGIS_PRO\\01_Intensidade_Pluviometrica\\aoi\\mdr.shp'\n",
    "input_raster = precipitation \n",
    "clip_feature = aoi\n",
    "out_path = r'C:\\SL_ARCGIS_PRO\\01_Intensidade_Pluviometrica\\precipitation_aoi.tif'\n",
    "Precipitation_aoi = arcpy.sa.ExtractByMask(input_raster, clip_feature)\n",
    "Precipitation_aoi.save(out_path)\n",
    "raster = arcpy.Raster(out_path)\n",
    "raster"
   ]
  },
  {
   "cell_type": "markdown",
   "metadata": {},
   "source": [
    "Reclassify"
   ]
  },
  {
   "cell_type": "code",
   "execution_count": 76,
   "metadata": {},
   "outputs": [],
   "source": [
    "raster_class = r'C:\\SL_ARCGIS_PRO\\01_Intensidade_Pluviometrica\\class.tif'"
   ]
  },
  {
   "cell_type": "code",
   "execution_count": 77,
   "metadata": {},
   "outputs": [],
   "source": [
    "out_raster = arcpy.sa.Reclassify(out_path, \"VALUE\", \"362,710205 367,791174 1;367,791174 372,872144 2;372,872144 377,953113 3;377,953113 383,034082 4;383,034082 388,115051 5\", \"DATA\");\n",
    "out_raster.save(raster_class)"
   ]
  },
  {
   "cell_type": "code",
   "execution_count": 78,
   "metadata": {},
   "outputs": [],
   "source": [
    "#Directory\n",
    "out_poligon = os.path.join(workspace, 'classes') \n",
    "classified = os.path.join(workspace, 'class.tif') "
   ]
  },
  {
   "cell_type": "code",
   "execution_count": 79,
   "metadata": {},
   "outputs": [
    {
     "data": {
      "text/html": [
       "<div class='gpresult'><h2>Messages</h2><div id='messages' data-messages='[\"Start Time: quinta-feira, 9 de junho de 2022 19:10:36\",\"Succeeded at quinta-feira, 9 de junho de 2022 19:10:36 (Elapsed Time: 0,31 seconds)\"]' data-show='true'><div id = 'default' /></div></div>"
      ],
      "text/plain": [
       "<Result 'C:\\\\SL_ARCGIS_PRO\\\\01_Intensidade_Pluviometrica\\\\classes.shp'>"
      ]
     },
     "execution_count": 79,
     "metadata": {},
     "output_type": "execute_result"
    }
   ],
   "source": [
    "#Conversion from raster to a feature class\n",
    "arcpy.conversion.RasterToPolygon(classified,\n",
    "                                     out_poligon,\n",
    "                                     \"SIMPLIFY\",\n",
    "                                     \"Value\",\n",
    "                                     \"SINGLE_OUTER_PART\",\n",
    "                                     None)"
   ]
  }
 ],
 "metadata": {
  "kernelspec": {
   "display_name": "ArcGISPro",
   "language": "Python",
   "name": "python3"
  },
  "language_info": {
   "file_extension": ".py",
   "name": "python",
   "version": "3"
  }
 },
 "nbformat": 4,
 "nbformat_minor": 2
}
